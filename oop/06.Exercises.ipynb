{
 "cells": [
  {
   "cell_type": "markdown",
   "id": "de9b32e5-72dc-491d-9831-351a8bd8b565",
   "metadata": {},
   "source": [
    "# Exercises\n",
    "\n",
    "### Building basic classes\n",
    "\n",
    "#### Designing your classes\n",
    "\n",
    "Briefly describe a possible collection of classes which can be used to represent a music collection (for example, inside a music player), focusing on how they would be related by composition. You should include classes for songs, artists, albums and playlists. Hint: write down the four class names, draw a line between each pair of classes which you think should have a relationship, and decide what kind of relationship would be the most appropriate.\n",
    "\n",
    "(You can either use paper or [draw.io](draw.io) or Jupyter Drawio or something else! Feel free to take a look into the [cheatsheet](img/uml-class-diagram-cheat-sheet.png).)"
   ]
  },
  {
   "cell_type": "markdown",
   "id": "555b420a-3889-47db-a978-59b4a0dd9ddd",
   "metadata": {},
   "source": [
    "#### Implementing your classes\n",
    "\n",
    "For simplicity you can assume that any song or album has a single “artist” value (which could represent more than one person), but you should include compilation albums (which contain songs by a selection of different artists). The “artist” of a compilation album can be a special value like “Various Artists”. You can also assume that each song is associated with a single album, but that multiple copies of the same song (which are included in different albums) can exist.\n",
    "\n",
    "Write a simple implementation of this model which clearly shows how the different classes are composed. There's some example code on the bottom of the exercise that should help you to figure out if you're in the right way. Your classes should be able to create an album and add all its songs to a playlist.\n",
    "\n",
    "Hint: if two objects are related to each other bidirectionally, you will have to decide how this link should be formed – one of the objects will have to be created before the other, so you can’t link them to each other in both directions simultaneously!\n",
    "\n",
    "The code bellow is meant to help you with your process, but having a different structure doesn't mean your answer is incorrect."
   ]
  },
  {
   "cell_type": "code",
   "execution_count": null,
   "id": "8031e875-5b55-42e7-bc02-88b6320d6790",
   "metadata": {},
   "outputs": [],
   "source": [
    "class Song:\n",
    "\n",
    "    def __init__(self, title, artist, album, track_number):\n",
    "        # initialize this class, remember a song needs to belong to an author!\n",
    "\n",
    "class Album:\n",
    "\n",
    "    def __init__(self, title, artist, year):\n",
    "        # initialize this class, remember an album needs to belong to an author!\n",
    "\n",
    "    def add_track(self, title, artist=None):\n",
    "        if artist is None:\n",
    "            artist = self.artist\n",
    "\n",
    "        track_number = len(self.tracks)\n",
    "\n",
    "        song = Song(title, artist, self, track_number)\n",
    "\n",
    "        self.tracks.append(song)\n",
    "\n",
    "\n",
    "class Artist:\n",
    "    def __init__(self, name):\n",
    "        # initialize this class\n",
    "\n",
    "        self.albums = []\n",
    "        self.songs = []\n",
    "\n",
    "    def add_album(self, album):\n",
    "        # this method provides authorship to an album\n",
    "\n",
    "    def add_song(self, song):\n",
    "        # this method provides authorship to a song\n",
    "\n",
    "class Playlist:\n",
    "    def __init__(self, name):\n",
    "        self.name = name\n",
    "        self.songs = []\n",
    "\n",
    "    def add_song(self, song):\n",
    "        # this method should add a new song to the playlist"
   ]
  },
  {
   "cell_type": "markdown",
   "id": "136cf33b-a3df-4304-b55b-321f873945b0",
   "metadata": {},
   "source": [
    "Your functions should be able to execute the following actions:"
   ]
  },
  {
   "cell_type": "code",
   "execution_count": null,
   "id": "0bd3959c-d80e-49a2-9b9d-e05076d1f7a5",
   "metadata": {},
   "outputs": [],
   "source": [
    "band = Artist(\"Bob's Awesome Band\")\n",
    "album = Album(\"Bob's First Single\", band, 2013)\n",
    "album.add_track(\"A Ballad about Cheese\")\n",
    "album.add_track(\"A Ballad about Cheese (dance remix)\")\n",
    "album.add_track(\"A Third Song to Use Up the Rest of the Space\")\n",
    "\n",
    "playlist = Playlist(\"My Favourite Songs\")\n",
    "\n",
    "for song in album.tracks:\n",
    "    playlist.add_song(song)"
   ]
  },
  {
   "cell_type": "markdown",
   "id": "f864a7f1-3477-4c26-a874-846ae17c5b63",
   "metadata": {},
   "source": [
    "### Inheritance\n",
    "\n",
    "In the next exercise our base class is Person, which represents any person associated with a university. We create a subclass to represent students and one to represent staff members, and then a subclass of StaffMember for people who teach courses (as opposed to staff members who have administrative positions.)\n",
    "\n",
    "We represent both student numbers and staff numbers by a single attribute, number, which we define in the base class, because it makes sense for us to treat them as a unified form of identification for any person. We use different attributes for the kind of student (undergraduate or postgraduate) that someone is and whether a staff member is a permanent or a temporary employee, because these are different sets of options.\n",
    "\n",
    "Complete the missing spots!"
   ]
  },
  {
   "cell_type": "code",
   "execution_count": null,
   "id": "2873e199-92df-4d06-923d-8ae2b3eb72c5",
   "metadata": {},
   "outputs": [],
   "source": [
    "class Person:\n",
    "    def __init__(self, name, surname, number):\n",
    "        self.name = name\n",
    "        self.surname = surname\n",
    "        self.number = number\n",
    "\n",
    "\n",
    "class Student(# should inherit a class):\n",
    "    UNDERGRADUATE, POSTGRADUATE = range(2)\n",
    "\n",
    "    def __init__(self, student_type, *args, **kwargs):\n",
    "        # complete this initializer with variable initialization\n",
    "        self.classes = []\n",
    "        # this is a derived class, initialize the base class it's inheriting from\n",
    "\n",
    "    def enrol(self, course):\n",
    "        self.classes.append(course)\n",
    "\n",
    "\n",
    "class StaffMember(# should inherit a class):\n",
    "    PERMANENT, TEMPORARY = range(2)\n",
    "\n",
    "    def __init__(self, employment_type, *args, **kwargs):\n",
    "        # complete this initializer with variable initialization\n",
    "        # this is a derived class, initialize the base class it's inheriting from\n",
    "\n",
    "\n",
    "class Lecturer(# should inherit a class):\n",
    "    def __init__(self, *args, **kwargs):\n",
    "        self.courses_taught = []\n",
    "        # this is a derived class, initialize the base class it's inheriting from\n",
    "\n",
    "    def assign_teaching(self, course):\n",
    "        self.courses_taught.append(course)"
   ]
  },
  {
   "cell_type": "markdown",
   "id": "22f14d26-6660-4719-905a-dbb5ffa73dbb",
   "metadata": {},
   "source": [
    "Your functions should be able to execute the following actions:"
   ]
  },
  {
   "cell_type": "code",
   "execution_count": null,
   "id": "c855ba12-6eb7-4e9a-a94f-1557a63802ab",
   "metadata": {},
   "outputs": [],
   "source": [
    "jane = Student(Student.POSTGRADUATE, \"Jane\", \"Smith\", \"SMTJNX045\")\n",
    "jane.enrol(a_postgrad_course)\n",
    "\n",
    "bob = Lecturer(StaffMember.PERMANENT, \"Bob\", \"Jones\", \"123456789\")\n",
    "bob.assign_teaching(an_undergrad_course)"
   ]
  },
  {
   "cell_type": "markdown",
   "id": "c3acedad-d208-492e-b698-1b205df0b9af",
   "metadata": {},
   "source": [
    "# Exceptions\n",
    "\n",
    "A very common use case for inheritance is the creation of a custom exception hierarchy. Because we use the class of an exception to determine whether it should be caught by a particular except block, it is useful for us to define custom classes for exceptions which we want to raise in our code. Using inheritance in our classes is useful because if an except block catches a particular exception class, it will also catch its child classes (because a child class is its parent class). That means that we can efficiently write except blocks which handle groups of related exceptions, just by arranging them in a logical hierarchy. Our exception classes should inherit from Python’s built-in exception classes. They often won’t need to contain any additional attributes or methods.\n",
    "\n",
    "Write a simple program which loops over a list of user data (tuples containing a username, email and age) and adds each user to a directory if the user is at least 16 years old. You do not need to store the age. Write a simple exception hierarchy which defines a different exception for each of these error conditions:\n",
    "- the username is not unique\n",
    "- the age is not a positive integer\n",
    "- the user is under 16\n",
    "- the email address is not valid (a simple check for a username, the @ symbol and a domain name is sufficient)\n",
    "\n",
    "Raise these exceptions in your program where appropriate. Whenever an exception occurs, your program should move onto the next set of data in the list. Print a different error message for each different kind of exception.\n",
    "\n",
    "Think about where else it would be a good idea to use a custom class, and what kind of collection type would be most appropriate for your directory.\n",
    "\n",
    "You can consider an email address to be valid if it contains one @ symbol and has a non-empty username and domain name – you don’t need to check for valid characters. You can assume that the age is already an integer value."
   ]
  },
  {
   "cell_type": "code",
   "execution_count": null,
   "id": "a4011af2-68cd-4cc0-aefd-bdc10052a2e1",
   "metadata": {},
   "outputs": [],
   "source": [
    "class DuplicateUsernameError(Exception):\n",
    "    pass\n",
    "\n",
    "# create missing classes for the rest of exceptions in this system\n",
    "\n",
    "# A class for a user's data\n",
    "\n",
    "class User:\n",
    "    # think about which attributes should be defined for the following example list execute"
   ]
  },
  {
   "cell_type": "code",
   "execution_count": null,
   "id": "42f1e294-9240-401f-aee4-42db6f2ace29",
   "metadata": {},
   "outputs": [],
   "source": [
    "example_list = [\n",
    "    (\"jane\", \"jane@example.com\", 21),\n",
    "    (\"bob\", \"bob@example\", 19),\n",
    "    (\"jane\", \"jane2@example.com\", 25),\n",
    "    (\"steve\", \"steve@somewhere\", 15),\n",
    "    (\"joe\", \"joe\", 23),\n",
    "    (\"anna\", \"anna@example.com\", -3),\n",
    "]"
   ]
  },
  {
   "cell_type": "code",
   "execution_count": null,
   "id": "9c8eff64-2102-4776-8672-51b589a139da",
   "metadata": {},
   "outputs": [],
   "source": [
    "directory = {}\n",
    "\n",
    "for # each variable in example_list:\n",
    "    try:\n",
    "        # raise the appropriate errors\n",
    "\n",
    "    except DuplicateUsernameError:\n",
    "        print(\"Username '%s' is in use.\" % username)\n",
    "    except InvalidAgeError:\n",
    "        print(\"Invalid age: %d\" % age)\n",
    "    except UnderageError:\n",
    "        print(\"User %s is underage.\" % username)\n",
    "    except InvalidEmailError:\n",
    "        print(\"'%s' is not a valid email address.\" % email)\n",
    "\n",
    "    else:\n",
    "        directory[username] = User(username, email)"
   ]
  },
  {
   "cell_type": "markdown",
   "id": "2d458849-e754-4d79-8d26-2a81018e436e",
   "metadata": {},
   "source": [
    "## Abstract classes and interfaces exercises\n",
    "\n",
    "In some languages it is possible to create a class which can’t be instantiated. That means that we can’t use this class directly to create an object – we can only inherit from the class, and use the subclasses to create objects.\n",
    "\n",
    "Why would we want to do this? Sometimes we want to specify a set of properties that an object needs to have in order to be suitable for some task – for example, we may have written a function which expects one of its parameters to be an object with certain methods that our function will need to use. We can create a class which serves as a template for suitable objects by defining a list of methods that these objects must implement. This class is not intended to be instantiated because all our method definitions are empty – all the insides of the methods must be implemented in a subclass.\n",
    "\n",
    "The abstract class is thus an interface definition – some languages also have a type of structure called an interface, which is very similar. We say that a class implements an interface if it inherits from the class which specifies that interface.\n",
    "\n",
    "In Python we can’t prevent anyone from instantiating a class, but we can create something similar to an abstract class by using NotImplementedError inside our method definitions. For example, here are some “abstract” classes which can be used as templates for shapes:\n",
    "\n",
    "```python\n",
    "# you can also write this with abstract classes or abc!\n",
    "class Shape2D:\n",
    "    def area(self):\n",
    "        raise NotImplementedError()\n",
    "\n",
    "class Shape3D:\n",
    "    def volume(self):\n",
    "        raise NotImplementedError()\n",
    "```\n",
    "\n",
    "Any two-dimensional shape has an area, and any three-dimensional shape has a volume. The formulae for working out area and volume differ depending on what shape we have, and objects for different shapes may have completely different attributes.\n",
    "\n",
    "If an object inherits from 2DShape, it will gain that class’s default area method – but the default method raises an error which makes it clear to the user that a custom method must be defined in the child object:\n",
    "\n",
    "```python\n",
    "class Square(Shape2D):\n",
    "    def __init__(self, width):\n",
    "        self.width = width\n",
    "\n",
    "    def area(self):\n",
    "        return self.width ** 2\n",
    "```\n",
    "\n",
    "Write an “abstract” class, `Box`, and use it to define some methods which any box object should have: `add`, for adding any number of items to the box, `empty`, for taking all the items out of the box and returning them as a list, and `count`, for counting the items which are currently in the box. Write a simple `Item` class which has a `name` attribute and a `value` attribute – you can assume that all the items you will use will be `Item` objects. Now write two subclasses of `Box` which use different underlying collections to store items: `ListBox` should use a `list`, and `DictBox` should use a `dict`.\n",
    "\n",
    "Write a function, `repack_boxes`, which takes any number of boxes as parameters, gathers up all the items they contain, and redistributes them as evenly as possible over all the boxes. Order is unimportant. There are multiple ways of doing this. Test your code with a `ListBox` with 20 items, a `ListBox` with 9 items and a `DictBox` with 5 items. You should end up with two boxes with 11 items each, and one box with 12 items."
   ]
  }
 ],
 "metadata": {
  "kernelspec": {
   "display_name": "Python 3 (ipykernel)",
   "language": "python",
   "name": "python3"
  },
  "language_info": {
   "codemirror_mode": {
    "name": "ipython",
    "version": 3
   },
   "file_extension": ".py",
   "mimetype": "text/x-python",
   "name": "python",
   "nbconvert_exporter": "python",
   "pygments_lexer": "ipython3",
   "version": "3.9.11"
  }
 },
 "nbformat": 4,
 "nbformat_minor": 5
}
