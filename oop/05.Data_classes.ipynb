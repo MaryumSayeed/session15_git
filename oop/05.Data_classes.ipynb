{
 "cells": [
  {
   "cell_type": "markdown",
   "metadata": {},
   "source": [
    "# Data classes\n",
    "\n",
    "In this section we will see Python features to avoid boilerplate when creating classes that are essentially collections of fields, similar to a C struct or a database record.\n",
    "\n",
    "There are different ways of using essentially the same functionalities of `@dataclass` decorator for older Python versions. But here we're only going to focus in one:"
   ]
  },
  {
   "cell_type": "markdown",
   "metadata": {},
   "source": [
    "## @dataclass\n",
    "\n",
    "Mutable named tuples with defaults.\n",
    "\n",
    "### Coordinate as dataclass"
   ]
  },
  {
   "cell_type": "code",
   "execution_count": null,
   "metadata": {},
   "outputs": [],
   "source": [
    "from dataclasses import dataclass\n",
    "\n",
    "from typing import ClassVar\n",
    "\n",
    "@dataclass(frozen=True)\n",
    "class Coordinate:\n",
    "    lat: float\n",
    "    long: float = 0\n",
    "\n",
    "    def __str__(self):\n",
    "        ns = 'NS'[self.lat < 0]\n",
    "        we = 'EW'[self.long < 0]\n",
    "        return f'{abs(self.lat):.1f}°{ns}, {abs(self.long):.1f}°{we}'"
   ]
  },
  {
   "cell_type": "code",
   "execution_count": null,
   "metadata": {},
   "outputs": [],
   "source": [
    "for k, v in Coordinate.__dict__.items():\n",
    "    if not k.startswith('_'):\n",
    "        print(k,':', v)"
   ]
  },
  {
   "cell_type": "code",
   "execution_count": null,
   "metadata": {},
   "outputs": [],
   "source": [
    "cle = Coordinate(41.40, -81.85)\n",
    "cle"
   ]
  },
  {
   "cell_type": "code",
   "execution_count": null,
   "metadata": {},
   "outputs": [],
   "source": [
    "print(cle)"
   ]
  },
  {
   "cell_type": "code",
   "execution_count": null,
   "metadata": {},
   "outputs": [],
   "source": [
    "import dataclasses\n",
    "\n",
    "try:\n",
    "    cle.lat = 0.0\n",
    "except dataclasses.FrozenInstanceError as exc:\n",
    "    print(repr(exc))"
   ]
  },
  {
   "cell_type": "markdown",
   "metadata": {},
   "source": [
    "### @dataclass options\n",
    "\n",
    "```\n",
    "@dataclasses.dataclass(*, \n",
    "    init=True, repr=True, eq=True, order=False, unsafe_hash=False, frozen=False)\n",
    "```\n",
    "\n",
    "<table>\n",
    "<tr><th>option</th><th>default</th><th style=\"text-align: left;\">meaning</th></tr>\n",
    "<tr><td>init</td><td>True</td>\n",
    "    <td style=\"text-align: left;\">generate <code>__init__</code>¹</td></tr>\n",
    "<tr><td>repr</td><td>True</td>\n",
    "    <td style=\"text-align: left;\">generate <code>__repr__</code>¹</td></tr>\n",
    "<tr><td>eq</td><td>True</td>\n",
    "    <td style=\"text-align: left;\">generate <code>__eq__</code>¹</td></tr>\n",
    "<tr><td>order</td><td>False</td>\n",
    "    <td style=\"text-align: left;\">generate <code>__lt__</code>, <code>__le__</code>, <code>__gt__</code>, <code>__ge__</code>²</td></tr>\n",
    "<tr><td>unsafe_hash</td><td>False</td>\n",
    "    <td style=\"text-align: left;\">generate <code>__hash__</code>³</td></tr>\n",
    "<tr><td>frozen</td><td>False</td>\n",
    "    <td style=\"text-align: left;\">make instances \"immutable\" ⁴</td></tr>\n",
    "</table>\n",
    "\n",
    "**Notes**\n",
    "\n",
    "¹ Ignored if the special method is implemented by user.<br>\n",
    "² Raises exceptions if ``eq=False`` or any of the listed special methods are implemented by user.<br>\n",
    "³ Complex semantics and several caveats — see: [dataclass documentation](https://docs.python.org/3/library/dataclasses.html#dataclasses.dataclass).<br>\n",
    "⁴ Not really immutable — imutability is emulated generating ``__setattr__`` and ``__delattr__`` which raise ``dataclass.FrozenInstanceError`` (a subclass of ``AttributeError``)."
   ]
  },
  {
   "cell_type": "markdown",
   "metadata": {},
   "source": [
    "### Example: a Dublin Core resource dataclass"
   ]
  },
  {
   "cell_type": "code",
   "execution_count": null,
   "metadata": {},
   "outputs": [],
   "source": [
    "from dataclasses import dataclass, field, fields\n",
    "from typing import List\n",
    "\n",
    "@dataclass\n",
    "class Resource:\n",
    "    \"\"\"Media resource description.\"\"\"\n",
    "    identifier: str = \"0\" * 13\n",
    "    title: str = \"<untitled>\"\n",
    "    creators: List[str] = field(default_factory=list)\n",
    "    date: str = \"\"\n",
    "    type: str = \"\"\n",
    "    description: str = \"\"\n",
    "    language: str = \"\"\n",
    "    subjects: List[str] = field(default_factory=list)\n"
   ]
  },
  {
   "cell_type": "code",
   "execution_count": null,
   "metadata": {},
   "outputs": [],
   "source": [
    "description = 'A hands-on guide to idiomatic Python code.'\n",
    "book = Resource('9781491946008', 'Fluent Python', \n",
    "    ['Luciano Ramalho'], '2015-08-20', 'book', description,\n",
    "    'EN', ['computer programming', 'Python'])\n",
    "book"
   ]
  },
  {
   "cell_type": "markdown",
   "metadata": {},
   "source": [
    "### Resource with custom \\_\\_repr\\_\\_"
   ]
  },
  {
   "cell_type": "code",
   "execution_count": null,
   "metadata": {},
   "outputs": [],
   "source": [
    "from dataclasses import dataclass, field, fields\n",
    "from typing import List\n",
    "\n",
    "@dataclass\n",
    "class Resource:\n",
    "    \"\"\"Media resource description.\"\"\"\n",
    "    identifier: str = \"0\" * 13\n",
    "    title: str = \"<untitled>\"\n",
    "    creators: List[str] = field(default_factory=list)\n",
    "    date: str = \"\"\n",
    "    type: str = \"\"\n",
    "    description: str = \"\"\n",
    "    language: str = \"\"\n",
    "    subjects: List[str] = field(default_factory=list)\n",
    "\n",
    "\n",
    "    def __repr__(self):\n",
    "        cls = self.__class__\n",
    "        cls_name = cls.__name__\n",
    "        res = [f'{cls_name}(']\n",
    "        for field in fields(cls):\n",
    "            value = getattr(self, field.name)\n",
    "            res.append(f'    {field.name} = {value!r},')\n",
    "        res.append(f')')\n",
    "        return '\\n'.join(res)"
   ]
  },
  {
   "cell_type": "code",
   "execution_count": null,
   "metadata": {},
   "outputs": [],
   "source": [
    "description = 'A hands-on guide to idiomatic Python code.'\n",
    "book = Resource('9781491946008', 'Fluent Python', \n",
    "    ['Luciano Ramalho'], '2015-08-20', 'book', description,\n",
    "    'EN', ['computer programming', 'Python'])\n",
    "book"
   ]
  },
  {
   "cell_type": "code",
   "execution_count": null,
   "metadata": {},
   "outputs": [],
   "source": [
    "book2 = eval(repr(book))"
   ]
  },
  {
   "cell_type": "code",
   "execution_count": null,
   "metadata": {},
   "outputs": [],
   "source": [
    "book2 == book"
   ]
  },
  {
   "cell_type": "markdown",
   "metadata": {},
   "source": [
    "👥 Any clue on why this works?"
   ]
  },
  {
   "cell_type": "code",
   "execution_count": null,
   "metadata": {},
   "outputs": [],
   "source": [
    "repr?"
   ]
  },
  {
   "cell_type": "code",
   "execution_count": null,
   "metadata": {},
   "outputs": [],
   "source": [
    "empty = Resource()\n",
    "empty"
   ]
  },
  {
   "cell_type": "markdown",
   "metadata": {},
   "source": [
    "### See docs for the field function"
   ]
  },
  {
   "cell_type": "code",
   "execution_count": null,
   "metadata": {},
   "outputs": [],
   "source": [
    "field?"
   ]
  }
 ],
 "metadata": {
  "kernelspec": {
   "display_name": "Python 3 (ipykernel)",
   "language": "python",
   "name": "python3"
  },
  "language_info": {
   "codemirror_mode": {
    "name": "ipython",
    "version": 3
   },
   "file_extension": ".py",
   "mimetype": "text/x-python",
   "name": "python",
   "nbconvert_exporter": "python",
   "pygments_lexer": "ipython3",
   "version": "3.9.11"
  }
 },
 "nbformat": 4,
 "nbformat_minor": 4
}
