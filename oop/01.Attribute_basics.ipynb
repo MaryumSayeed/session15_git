{
 "cells": [
  {
   "cell_type": "markdown",
   "metadata": {},
   "source": [
    "👥 What do you know about OOP?"
   ]
  },
  {
   "cell_type": "markdown",
   "metadata": {},
   "source": [
    "# Attribute basics\n",
    "\n",
    "The next two figures are from the **Java Tutorial (Sun/Oracle)**, section [What is an object?](https://docs.oracle.com/javase/tutorial/java/concepts/object.html).\n",
    "\n",
    "An object is depicted as fields surrounded by methods:\n",
    "\n",
    "<img src=\"img/concepts-object.gif\" title=\"An object\">\n",
    "\n",
    "An object representing a bicyle has methods such as *Change gear* and *Brake*, and fields such as *speed* and *cadence*:\n",
    "\n",
    "<img src=\"img/concepts-bicycleObject.gif\" title=\"A bicycle object\">\n"
   ]
  },
  {
   "cell_type": "markdown",
   "metadata": {},
   "source": [
    "## What about Python?\n",
    "\n",
    "### Python terms\n",
    "\n",
    "From the **Python tutorial**, section [9.3.3. Instance Objects](https://docs.python.org/3.7/tutorial/classes.html#instance-objects)\n",
    "\n",
    ">\n",
    "> There are two kinds of valid attribute names, data attributes and methods.\n",
    ">\n",
    "\n",
    "In Python, the generic term *attribute* refers to both *fields* and *methods* in Java:\n",
    "\n",
    "Python term    |Java concept\n",
    ":----------    |:-----------\n",
    "attribute      | fields and methods\n",
    "data attribute | field\n",
    "method         | method"
   ]
  },
  {
   "cell_type": "markdown",
   "metadata": {},
   "source": [
    "## Hands on\n",
    "\n",
    "Check the version of Python we are using:"
   ]
  },
  {
   "cell_type": "code",
   "execution_count": null,
   "metadata": {},
   "outputs": [],
   "source": [
    "import sys\n",
    "print(sys.version)"
   ]
  },
  {
   "cell_type": "markdown",
   "metadata": {},
   "source": [
    "## A simplistic class"
   ]
  },
  {
   "cell_type": "code",
   "execution_count": null,
   "metadata": {},
   "outputs": [],
   "source": [
    "class Coordinate:\n",
    "    '''Coordinate on Earth'''"
   ]
  },
  {
   "cell_type": "code",
   "execution_count": null,
   "metadata": {},
   "outputs": [],
   "source": [
    "cle = Coordinate()\n",
    "cle.lat = 41.4\n",
    "cle.long = -81.8\n",
    "cle"
   ]
  },
  {
   "cell_type": "code",
   "execution_count": null,
   "metadata": {},
   "outputs": [],
   "source": [
    "cle.lat"
   ]
  },
  {
   "cell_type": "markdown",
   "metadata": {},
   "source": [
    "### First method: ``__repr__``"
   ]
  },
  {
   "cell_type": "code",
   "execution_count": null,
   "metadata": {},
   "outputs": [],
   "source": [
    "class Coordinate:\n",
    "    '''Coordinate on Earth'''\n",
    "        \n",
    "    def __repr__(self):\n",
    "        return f'Coordinate({self.lat}, {self.long})'   "
   ]
  },
  {
   "cell_type": "code",
   "execution_count": null,
   "metadata": {},
   "outputs": [],
   "source": [
    "cle = Coordinate()\n",
    "cle.lat = 41.4\n",
    "cle.long = -81.8\n",
    "cle"
   ]
  },
  {
   "cell_type": "code",
   "execution_count": null,
   "metadata": {},
   "outputs": [],
   "source": [
    "cle.__repr__()"
   ]
  },
  {
   "cell_type": "code",
   "execution_count": null,
   "metadata": {},
   "outputs": [],
   "source": [
    "repr(cle)"
   ]
  },
  {
   "cell_type": "markdown",
   "metadata": {},
   "source": [
    "👥 Can you tell the difference between the outputs above?"
   ]
  },
  {
   "cell_type": "markdown",
   "metadata": {},
   "source": [
    "### About ``__repr__``\n",
    "\n",
    "* Good for exploratory programming, documentation, doctests, and debugging.\n",
    "* Best practice: if viable, make ``__repr__`` return string with syntax required to create a new instance like the one inspected (i.e. ``eval(repr(x)) == x``)\n",
    "* If not viable, use ``<MyClass ...>`` with some ``...`` that identifies the particular instance.\n",
    "\n",
    "\n",
    "### ``__repr__`` v. ``__str__``\n",
    "\n",
    "* ``__repr__`` is for programming displays.\n",
    "* ``__str__`` is for end-user displays.\n",
    "\n",
    "### ``__str__`` example"
   ]
  },
  {
   "cell_type": "code",
   "execution_count": null,
   "metadata": {},
   "outputs": [],
   "source": [
    "class Coordinate:\n",
    "    '''Coordinate on Earth'''\n",
    "    \n",
    "    def __init__(self, lat=0, long=0):\n",
    "        self.lat = lat\n",
    "        self.long = long\n",
    "    \n",
    "    def __repr__(self):\n",
    "        return f'Coordinate({self.lat}, {self.long})'\n",
    "    \n",
    "    def __str__(self):\n",
    "        ns = 'NS'[self.lat < 0]\n",
    "        we = 'EW'[self.long < 0]\n",
    "        return f'{abs(self.lat):.1f}°{ns}, {abs(self.long):.1f}°{we}'"
   ]
  },
  {
   "cell_type": "code",
   "execution_count": null,
   "metadata": {},
   "outputs": [],
   "source": [
    "cle = Coordinate()\n",
    "cle.lat = 41.4\n",
    "cle.long = -81.8\n",
    "print(cle)"
   ]
  },
  {
   "cell_type": "markdown",
   "metadata": {},
   "source": [
    "### But..."
   ]
  },
  {
   "cell_type": "code",
   "execution_count": null,
   "metadata": {},
   "outputs": [],
   "source": [
    "gulf_of_guinea = Coordinate()\n",
    "try:\n",
    "    print(gulf_of_guinea)\n",
    "except AttributeError as e:\n",
    "    print(e)"
   ]
  },
  {
   "cell_type": "markdown",
   "metadata": {},
   "source": [
    "> **Quick fix**: add class attributes to provide defaults."
   ]
  },
  {
   "cell_type": "markdown",
   "metadata": {},
   "source": [
    "## Class attributes as defaults"
   ]
  },
  {
   "cell_type": "code",
   "execution_count": null,
   "metadata": {},
   "outputs": [],
   "source": [
    "class Pizza:\n",
    "    \n",
    "    diameter = 40\n",
    "    slices = 8\n",
    "\n",
    "    flavor = 'Cheese'\n",
    "    flavor2 = None"
   ]
  },
  {
   "cell_type": "code",
   "execution_count": null,
   "metadata": {},
   "outputs": [],
   "source": [
    "p = Pizza()\n",
    "p.slices"
   ]
  },
  {
   "cell_type": "code",
   "execution_count": null,
   "metadata": {},
   "outputs": [],
   "source": [
    "p.flavor"
   ]
  },
  {
   "cell_type": "code",
   "execution_count": null,
   "metadata": {},
   "outputs": [],
   "source": [
    "p.__dict__"
   ]
  },
  {
   "cell_type": "code",
   "execution_count": null,
   "metadata": {},
   "outputs": [],
   "source": [
    "p.flavor = 'Sausage'\n",
    "p.__dict__"
   ]
  },
  {
   "cell_type": "code",
   "execution_count": null,
   "metadata": {},
   "outputs": [],
   "source": [
    "p2 = Pizza()\n",
    "p2.flavor"
   ]
  },
  {
   "cell_type": "code",
   "execution_count": null,
   "metadata": {},
   "outputs": [],
   "source": [
    "Pizza.__dict__"
   ]
  },
  {
   "cell_type": "markdown",
   "metadata": {},
   "source": [
    "## A better pizza"
   ]
  },
  {
   "cell_type": "code",
   "execution_count": null,
   "metadata": {},
   "outputs": [],
   "source": [
    "class Pizza:\n",
    "\n",
    "    diameter = 40  # cm\n",
    "    slices = 8\n",
    "\n",
    "    def __init__(self, flavor='Cheese', flavor2=None):\n",
    "        self.flavor = flavor\n",
    "        self.flavor2 = flavor2"
   ]
  },
  {
   "cell_type": "markdown",
   "metadata": {},
   "source": [
    "Good practices shown here:\n",
    "\n",
    "* use of *class attributes* for attributes shared by all instances;\n",
    "* attributes that are expected to vary among instances are *instance attributes*;\n",
    "* instance attributes are *all* assigned in ``__init__``;\n",
    "* default values for instance attributes are ``__init__`` argument defaults.\n",
    "\n",
    "[PEP 412 — Key-Sharing Dictionary](https://www.python.org/dev/peps/pep-0412/) introduced an optimization that saves memory when instances of a class have the same instance attribute names set on ``__init__``."
   ]
  },
  {
   "cell_type": "markdown",
   "metadata": {},
   "source": [
    "### A digression on formatting\n",
    "\n",
    "`format` is the newer, most recommended way to format your strings. There's a [list](https://fpy.li/fmtspec) on different modifiers you can apply to `format`, here I'm just giving a high level idea."
   ]
  },
  {
   "cell_type": "code",
   "execution_count": null,
   "metadata": {},
   "outputs": [],
   "source": [
    "brl = 1 / 5.27\n",
    "brl"
   ]
  },
  {
   "cell_type": "code",
   "execution_count": null,
   "metadata": {},
   "outputs": [],
   "source": [
    "format(brl, '0.4f')"
   ]
  },
  {
   "cell_type": "code",
   "execution_count": null,
   "metadata": {},
   "outputs": [],
   "source": [
    "'1 BRL = {rate:0.2f} USD'.format(rate = brl)"
   ]
  }
 ],
 "metadata": {
  "kernelspec": {
   "display_name": "Python 3 (ipykernel)",
   "language": "python",
   "name": "python3"
  },
  "language_info": {
   "codemirror_mode": {
    "name": "ipython",
    "version": 3
   },
   "file_extension": ".py",
   "mimetype": "text/x-python",
   "name": "python",
   "nbconvert_exporter": "python",
   "pygments_lexer": "ipython3",
   "version": "3.9.11"
  }
 },
 "nbformat": 4,
 "nbformat_minor": 4
}
