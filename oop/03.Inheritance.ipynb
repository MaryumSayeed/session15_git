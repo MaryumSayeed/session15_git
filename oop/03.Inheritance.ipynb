{
 "cells": [
  {
   "cell_type": "markdown",
   "metadata": {},
   "source": [
    "# Inheritance and composition\n",
    "\n",
    "**IS**: Inheritance means classes have a relationship between the original class and the derived classes, where the derived ones are a specialization of the original class. Think of going from the more generic to the more specific.\n",
    "\n",
    "**HAS**: A composition is an object that might be contained in another class but they don't have a dependency relationship as in the case of inheritance. It can be a specialization of another class as it might be just somewhat related to it.\n",
    "\n",
    "Let's start with inheritance looking at a simple Bingo program:"
   ]
  },
  {
   "cell_type": "code",
   "execution_count": null,
   "metadata": {},
   "outputs": [],
   "source": [
    "import random\n",
    "\n",
    "class Balls:\n",
    "    def __init__(self, items):\n",
    "        self._items = list(items)\n",
    "\n",
    "    def __iter__(self):\n",
    "        return iter(self._items)\n",
    "\n",
    "    def __len__(self):\n",
    "        return len(self._items)"
   ]
  },
  {
   "cell_type": "markdown",
   "metadata": {},
   "source": [
    "### Useful words\n",
    "\n",
    "* **Base classes**: the first class in the hierarchy (a.k.a super classes)\n",
    "* **Derived classes**: are inherited from a base class (a.k.a subclasses, or subtypes)\n",
    "\n",
    "*A derived class is said to derive, inherit, or extend a base class.*\n"
   ]
  },
  {
   "cell_type": "markdown",
   "metadata": {},
   "source": [
    "## Simple inheritance\n",
    "\n",
    "If a base class has an `__init__()` method, the derived class’s `__init__()` method, if any, must explicitly call it to ensure proper initialization of the base class part of the instance; for example: `super().__init__([args...])`."
   ]
  },
  {
   "cell_type": "code",
   "execution_count": null,
   "metadata": {},
   "outputs": [],
   "source": [
    "import random\n",
    "\n",
    "class Tombola(Balls):\n",
    "    def __init__(self, items):\n",
    "        super().__init__(items)\n",
    "        random.shuffle(self._items)\n",
    "\n",
    "    def pop(self):\n",
    "        return self._items.pop()"
   ]
  },
  {
   "cell_type": "markdown",
   "metadata": {},
   "source": [
    "👥 How can we write a small test that uses this code?"
   ]
  },
  {
   "cell_type": "markdown",
   "metadata": {},
   "source": [
    "## Abstract Base Classes\n",
    "\n",
    "Abstract base classes are meant to never be instantiated, only inherited.\n",
    "\n",
    "The Python module `abc` defines an abstract class and the `@abstractmethod` decorator should be used in the methods of the abstract class.\n",
    "\n",
    "You can also use leading underscores to indicate to the user that objects of a certain class shouldn't be created."
   ]
  },
  {
   "cell_type": "code",
   "execution_count": null,
   "metadata": {},
   "outputs": [],
   "source": [
    "import abc\n",
    "\n",
    "class Tombola(abc.ABC):  \n",
    "\n",
    "    @abc.abstractmethod\n",
    "    def load(self, iterable):\n",
    "        \"\"\"Add items from an iterable.\"\"\"\n",
    "\n",
    "    @abc.abstractmethod\n",
    "    def pick(self):\n",
    "        \"\"\"Remove item at random, returning it.\n",
    "\n",
    "        This method should raise `LookupError` when the instance is empty.\n",
    "        \"\"\"\n",
    "\n",
    "    def loaded(self):\n",
    "        \"\"\"Return `True` if there's at least 1 item, `False` otherwise.\"\"\"\n",
    "        return bool(self.inspect())\n",
    "\n",
    "\n",
    "    def inspect(self):\n",
    "        \"\"\"Return a sorted tuple with the items currently inside.\"\"\"\n",
    "        items = []\n",
    "        while True:\n",
    "            try:\n",
    "                items.append(self.pick())\n",
    "            except LookupError:\n",
    "                break\n",
    "        self.load(items)\n",
    "        return tuple(sorted(items))"
   ]
  },
  {
   "cell_type": "markdown",
   "metadata": {
    "tags": []
   },
   "source": [
    "##### *\"Let ϕ (x) be a property provable about objects x of type T. Then ϕ (y) should be true for objects of type S where S is a subtype of T.\"*\n",
    "\n",
    "The Liskov substitution principle. It is based on the concept of \"substitutability\" – a principle in object-oriented programming stating that an object (such as a class) and a sub-object (such as a class that extends the first class) must be interchangeable without breaking the program."
   ]
  },
  {
   "cell_type": "code",
   "execution_count": null,
   "metadata": {},
   "outputs": [],
   "source": [
    "import random\n",
    "\n",
    "\n",
    "class BingoCage(Tombola):  \n",
    "\n",
    "    def __init__(self, items):\n",
    "        self._randomizer = random.SystemRandom() \n",
    "        self._items = []\n",
    "        self.load(items)\n",
    "\n",
    "    def load(self, items):\n",
    "        self._items.extend(items)\n",
    "        self._randomizer.shuffle(self._items)\n",
    "\n",
    "    def pick(self):\n",
    "        try:\n",
    "            return self._items.pop()\n",
    "        except IndexError:\n",
    "            raise LookupError('pick from empty BingoCage')\n",
    "\n",
    "    def __call__(self):\n",
    "        self.pick()"
   ]
  },
  {
   "cell_type": "markdown",
   "metadata": {},
   "source": [
    "## Composition\n",
    "\n",
    "Composition is the preferred method from my favorite designers.\n",
    "\n",
    "The argument for using composition instead of inheritance is the flexibility that comes with it. The lack of inheritance flexibility probably won't show in the early stages of your project, but once it has grown you might run in to many problems. Check the \"Inherit problems\" session if you intend to write really extensive software, learn about them and try to avoid them!\n",
    "\n",
    "When writing compositions try to spot what are the similarities in the classes you intend to build and try to combine them.\n",
    "\n",
    "When not to use composition:\n",
    "\n",
    "- Inheritance of interface creates a subtype, implying an “is-a” relationship. This is best done with ABCs.\n",
    "- Inheritance of implementation avoids code duplication by reuse. Mixins can help with this. To learn more about mixins, head over [here]()."
   ]
  },
  {
   "cell_type": "markdown",
   "metadata": {},
   "source": [
    "### Inherit problems\n",
    "\n",
    "- [Multiple Inheritance](https://www.geeksforgeeks.org/multiple-inheritance-in-python/) and the diamond problem.\n",
    "\n",
    "- [Class Explosion](https://realpython.com/inheritance-composition-python/#the-class-explosion-problem)\n",
    "\n",
    "### Good to know\n",
    "\n",
    "- [Duck typing](https://realpython.com/lessons/duck-typing/). If it looks like a duck, swims like a duck, and quacks like a duck, then it probably is a duck. \n",
    "\n",
    "- [UML](https://realpython.com/lessons/uml-diagrams/) and an [UML software](https://github.com/QuantStack/jupyterlab-drawio) "
   ]
  }
 ],
 "metadata": {
  "kernelspec": {
   "display_name": "Python 3 (ipykernel)",
   "language": "python",
   "name": "python3"
  },
  "language_info": {
   "codemirror_mode": {
    "name": "ipython",
    "version": 3
   },
   "file_extension": ".py",
   "mimetype": "text/x-python",
   "name": "python",
   "nbconvert_exporter": "python",
   "pygments_lexer": "ipython3",
   "version": "3.9.11"
  }
 },
 "nbformat": 4,
 "nbformat_minor": 4
}
